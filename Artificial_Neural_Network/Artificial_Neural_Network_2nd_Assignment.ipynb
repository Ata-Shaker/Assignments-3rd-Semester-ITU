{
 "cells": [
  {
   "cell_type": "markdown",
   "metadata": {},
   "source": [
    "<I><h1>The Second Homework of Artificial Neural Network</h1></I>\n",
    "<I><h2>Name: Ata Shaker</h2></I>\n",
    "<I><h2>Std No.: 040200925</h2></I>"
   ]
  },
  {
   "cell_type": "markdown",
   "metadata": {},
   "source": [
    "<B><h2>The First Question - A</h2></B>"
   ]
  },
  {
   "cell_type": "code",
   "execution_count": 8,
   "metadata": {},
   "outputs": [
    {
     "name": "stdout",
     "output_type": "stream",
     "text": [
      " Sum = 55\n"
     ]
    }
   ],
   "source": [
    "sum = 0 \n",
    "n = 10\n",
    "for num in range(n+1):\n",
    "    sum += num\n",
    "print(f' Sum = {sum}')"
   ]
  },
  {
   "cell_type": "markdown",
   "metadata": {},
   "source": [
    "<B><h2>The First Question - B</h2></B>"
   ]
  },
  {
   "cell_type": "code",
   "execution_count": 2,
   "metadata": {},
   "outputs": [
    {
     "name": "stdout",
     "output_type": "stream",
     "text": [
      "10! = 3628800\n"
     ]
    }
   ],
   "source": [
    "n = 10\n",
    "factorialRes = 1\n",
    "for num in range(1, n+1):\n",
    "    factorialRes *= num\n",
    "print(f'{num}! = {factorialRes}')"
   ]
  },
  {
   "cell_type": "markdown",
   "metadata": {},
   "source": [
    "<B><h2>The First Question - C</h2></B>"
   ]
  },
  {
   "cell_type": "code",
   "execution_count": 3,
   "metadata": {},
   "outputs": [
    {
     "name": "stdout",
     "output_type": "stream",
     "text": [
      "10! = 3628800\n",
      "9! = 362880\n",
      "8! = 40320\n",
      "7! = 5040\n",
      "6! = 720\n",
      "5! = 120\n",
      "4! = 24\n",
      "3! = 6\n",
      "2! = 2\n",
      "1! = 1\n"
     ]
    }
   ],
   "source": [
    "n = 10\n",
    "for i in range(n, 0, -1):\n",
    "    factorialRes = 1\n",
    "    for j in range(1, i+1):\n",
    "        factorialRes *= j\n",
    "    print(f'{i}! = {factorialRes}')"
   ]
  },
  {
   "cell_type": "markdown",
   "metadata": {},
   "source": [
    "<B><h2>The Second Question - A</h2></B>"
   ]
  },
  {
   "cell_type": "code",
   "execution_count": 4,
   "metadata": {},
   "outputs": [
    {
     "name": "stdout",
     "output_type": "stream",
     "text": [
      "1/2 = 0.5\n",
      "1/3 = 0.3333333333333333\n",
      "1/4 = 0.25\n",
      "1/5 = 0.2\n",
      "1/6 = 0.16666666666666666\n",
      "1/7 = 0.14285714285714285\n",
      "1/8 = 0.125\n",
      "1/9 = 0.1111111111111111\n",
      "1/10 = 0.1\n"
     ]
    }
   ],
   "source": [
    "n = 10\n",
    "for num in range(2, n+1):\n",
    "    print(f'1/{num} = {1/num}')"
   ]
  },
  {
   "cell_type": "markdown",
   "metadata": {},
   "source": [
    "<B><h2>The Second Question - B</h2></B>"
   ]
  },
  {
   "cell_type": "code",
   "execution_count": 21,
   "metadata": {},
   "outputs": [
    {
     "name": "stdout",
     "output_type": "stream",
     "text": [
      "Invalid Entry!\n",
      "12, 11, 10, 9, 8, 7, 6, 5, 4, 3, 2, 1, BOOM!\n"
     ]
    }
   ],
   "source": [
    "while True:\n",
    "    try:\n",
    "        num = int(input('Please enter a positive number: '))\n",
    "        assert type(num) == int, 'No Input Type other than int is Allowed!'\n",
    "        assert num > -1, 'No Negative Numbers Allowed!'\n",
    "    except ValueError:\n",
    "        print('Invalid Entry!')\n",
    "    except AssertionError as message:\n",
    "        print(message)\n",
    "    else:\n",
    "        break\n",
    "\n",
    "for number in range(num, 0, -1):\n",
    "    print(number, end = ', ')\n",
    "print('BOOM!')"
   ]
  },
  {
   "cell_type": "markdown",
   "metadata": {},
   "source": [
    "<B><h2>The Second Question - C</h2></B>"
   ]
  },
  {
   "cell_type": "code",
   "execution_count": 36,
   "metadata": {},
   "outputs": [
    {
     "name": "stdout",
     "output_type": "stream",
     "text": [
      "2.5 ** 3 = 15.625\n"
     ]
    }
   ],
   "source": [
    "while True:\n",
    "    try:\n",
    "        base = float(input('Please enter the base of exponentiation: '))\n",
    "        exponent = int(input('Please enter the exponent of exponentiation: '))\n",
    "    except ValueError:\n",
    "        print(\"Invalid Input!\")\n",
    "    else:\n",
    "        break\n",
    "\n",
    "exponentiationRes = 1.0\n",
    "for time in range(abs(exponent)):\n",
    "    if exponent < 0:\n",
    "        exponentiationRes /= base \n",
    "    else:\n",
    "        exponentiationRes *= base \n",
    "\n",
    "print(f'{base} ** {exponent} = {exponentiationRes}')"
   ]
  },
  {
   "cell_type": "markdown",
   "metadata": {},
   "source": [
    "<B><h2>The Second Question - D</h2></B>"
   ]
  },
  {
   "cell_type": "code",
   "execution_count": 39,
   "metadata": {},
   "outputs": [
    {
     "name": "stdout",
     "output_type": "stream",
     "text": [
      "Invalid Input!\n",
      "Do you like being left out and alone? :(\n",
      "Excellent!\n",
      "Being in pairs is always better. :)\n"
     ]
    }
   ],
   "source": [
    "while True:\n",
    "    try:\n",
    "        num = int(input('Please enter a number: '))\n",
    "        assert num >= 0, 'No Negative Numbers Allowed!'\n",
    "    except ValueError:\n",
    "        print('Invalid Input!')\n",
    "    except AssertionError as message:\n",
    "        print(message)\n",
    "    else:\n",
    "        if num % 2:\n",
    "            print('Do you like being left out and alone? :(')\n",
    "        else:\n",
    "            print('Excellent!\\nBeing in pairs is always better. :)')\n",
    "            break "
   ]
  },
  {
   "cell_type": "markdown",
   "metadata": {},
   "source": [
    "<B><h2>The Second Question - E</h2></B>"
   ]
  },
  {
   "cell_type": "code",
   "execution_count": 48,
   "metadata": {},
   "outputs": [
    {
     "name": "stdout",
     "output_type": "stream",
     "text": [
      "    C     F\n",
      "  -20  -4.0\n",
      "  -15   5.0\n",
      "  -10  14.0\n",
      "   -5  23.0\n",
      "    0  32.0\n",
      "    5  41.0\n",
      "   10  50.0\n",
      "   15  59.0\n",
      "   20  68.0\n",
      "   25  77.0\n",
      "   30  86.0\n",
      "   35  95.0\n",
      "   40 104.0\n"
     ]
    }
   ],
   "source": [
    "CDegrees = [-20, -15, -10, -5, 0, 5, 10, 15, 20, 25, 30, 35, 40]\n",
    "print ('    C     F')\n",
    "\n",
    "index = 0\n",
    "FDegrees = [None] * len(CDegrees)\n",
    "while index < len(CDegrees):\n",
    "    FDegrees[index] = (9.0/5) * CDegrees[index] + 32\n",
    "    print ('%5d %5.1f' % (CDegrees[index], FDegrees[index]))\n",
    "    index += 1\n"
   ]
  },
  {
   "cell_type": "markdown",
   "metadata": {},
   "source": [
    "<B><h2>The Second Question - F</h2></B>"
   ]
  },
  {
   "cell_type": "markdown",
   "metadata": {},
   "source": [
    "<h3><I>The code below, at first, takes the square root of the number two (2) for n times (n = 60) and, then, exponentiates the resulting number by the power of two for the same number of times as it took the square root. Since exponentiation by the power of two and taking the square root of a number are respectively inverse functions of each other and the number of times each of these functions have been applied are equal, the code will display the original number it performed operations on in the first place , in this case two (2). If the initial number (r_org) were, say, ten (10), then the code is supposed to display ten (10) as the result in the end. However, since computers are not able to numerically store irrational number in the most percise way, the user most round up the answers to get the correct analytic answer. When this process is iterated for many times, the storage error becomes more and more significant and the number dramatically deviates from the actual answer.</I></h3>"
   ]
  },
  {
   "cell_type": "code",
   "execution_count": 1,
   "metadata": {},
   "outputs": [
    {
     "name": "stdout",
     "output_type": "stream",
     "text": [
      "With 1 times sqrt and then 1 times **2, the number 2.0 becomes: 2.0000000000000004\n",
      "With 2 times sqrt and then 2 times **2, the number 2.0 becomes: 1.9999999999999996\n",
      "With 3 times sqrt and then 3 times **2, the number 2.0 becomes: 1.9999999999999996\n",
      "With 4 times sqrt and then 4 times **2, the number 2.0 becomes: 1.9999999999999964\n",
      "With 5 times sqrt and then 5 times **2, the number 2.0 becomes: 1.9999999999999964\n",
      "With 6 times sqrt and then 6 times **2, the number 2.0 becomes: 1.9999999999999964\n",
      "With 7 times sqrt and then 7 times **2, the number 2.0 becomes: 1.9999999999999714\n",
      "With 8 times sqrt and then 8 times **2, the number 2.0 becomes: 2.0000000000000235\n",
      "With 9 times sqrt and then 9 times **2, the number 2.0 becomes: 2.0000000000000235\n",
      "With 10 times sqrt and then 10 times **2, the number 2.0 becomes: 2.0000000000000235\n",
      "With 11 times sqrt and then 11 times **2, the number 2.0 becomes: 2.0000000000000235\n",
      "With 12 times sqrt and then 12 times **2, the number 2.0 becomes: 1.9999999999991336\n",
      "With 13 times sqrt and then 13 times **2, the number 2.0 becomes: 1.9999999999973292\n",
      "With 14 times sqrt and then 14 times **2, the number 2.0 becomes: 1.9999999999973292\n",
      "With 15 times sqrt and then 15 times **2, the number 2.0 becomes: 1.9999999999973292\n",
      "With 16 times sqrt and then 16 times **2, the number 2.0 becomes: 2.0000000000117746\n",
      "With 17 times sqrt and then 17 times **2, the number 2.0 becomes: 2.0000000000408580\n",
      "With 18 times sqrt and then 18 times **2, the number 2.0 becomes: 2.0000000000408580\n",
      "With 19 times sqrt and then 19 times **2, the number 2.0 becomes: 2.0000000001573586\n",
      "With 20 times sqrt and then 20 times **2, the number 2.0 becomes: 2.0000000001573586\n",
      "With 21 times sqrt and then 21 times **2, the number 2.0 becomes: 2.0000000001573586\n",
      "With 22 times sqrt and then 22 times **2, the number 2.0 becomes: 2.0000000010885857\n",
      "With 23 times sqrt and then 23 times **2, the number 2.0 becomes: 2.0000000029511749\n",
      "With 24 times sqrt and then 24 times **2, the number 2.0 becomes: 2.0000000066771721\n",
      "With 25 times sqrt and then 25 times **2, the number 2.0 becomes: 2.0000000066771721\n",
      "With 26 times sqrt and then 26 times **2, the number 2.0 becomes: 1.9999999917774933\n",
      "With 27 times sqrt and then 27 times **2, the number 2.0 becomes: 1.9999999917774933\n",
      "With 28 times sqrt and then 28 times **2, the number 2.0 becomes: 1.9999999917774933\n",
      "With 29 times sqrt and then 29 times **2, the number 2.0 becomes: 1.9999999917774933\n",
      "With 30 times sqrt and then 30 times **2, the number 2.0 becomes: 1.9999999917774933\n",
      "With 31 times sqrt and then 31 times **2, the number 2.0 becomes: 1.9999999917774933\n",
      "With 32 times sqrt and then 32 times **2, the number 2.0 becomes: 1.9999990380770896\n",
      "With 33 times sqrt and then 33 times **2, the number 2.0 becomes: 1.9999971307544144\n",
      "With 34 times sqrt and then 34 times **2, the number 2.0 becomes: 1.9999971307544144\n",
      "With 35 times sqrt and then 35 times **2, the number 2.0 becomes: 1.9999971307544144\n",
      "With 36 times sqrt and then 36 times **2, the number 2.0 becomes: 1.9999971307544144\n",
      "With 37 times sqrt and then 37 times **2, the number 2.0 becomes: 1.9999971307544144\n",
      "With 38 times sqrt and then 38 times **2, the number 2.0 becomes: 1.9999360966436217\n",
      "With 39 times sqrt and then 39 times **2, the number 2.0 becomes: 1.9999360966436217\n",
      "With 40 times sqrt and then 40 times **2, the number 2.0 becomes: 1.9999360966436217\n",
      "With 41 times sqrt and then 41 times **2, the number 2.0 becomes: 1.9994478907329654\n",
      "With 42 times sqrt and then 42 times **2, the number 2.0 becomes: 1.9984718365144798\n",
      "With 43 times sqrt and then 43 times **2, the number 2.0 becomes: 1.9965211562778555\n",
      "With 44 times sqrt and then 44 times **2, the number 2.0 becomes: 1.9965211562778555\n",
      "With 45 times sqrt and then 45 times **2, the number 2.0 becomes: 1.9887374575497223\n",
      "With 46 times sqrt and then 46 times **2, the number 2.0 becomes: 1.9887374575497223\n",
      "With 47 times sqrt and then 47 times **2, the number 2.0 becomes: 1.9887374575497223\n",
      "With 48 times sqrt and then 48 times **2, the number 2.0 becomes: 1.9887374575497223\n",
      "With 49 times sqrt and then 49 times **2, the number 2.0 becomes: 1.8682459487159784\n",
      "With 50 times sqrt and then 50 times **2, the number 2.0 becomes: 1.6487212645509468\n",
      "With 51 times sqrt and then 51 times **2, the number 2.0 becomes: 1.6487212645509468\n",
      "With 52 times sqrt and then 52 times **2, the number 2.0 becomes: 1.0000000000000000\n",
      "With 53 times sqrt and then 53 times **2, the number 2.0 becomes: 1.0000000000000000\n",
      "With 54 times sqrt and then 54 times **2, the number 2.0 becomes: 1.0000000000000000\n",
      "With 55 times sqrt and then 55 times **2, the number 2.0 becomes: 1.0000000000000000\n",
      "With 56 times sqrt and then 56 times **2, the number 2.0 becomes: 1.0000000000000000\n",
      "With 57 times sqrt and then 57 times **2, the number 2.0 becomes: 1.0000000000000000\n",
      "With 58 times sqrt and then 58 times **2, the number 2.0 becomes: 1.0000000000000000\n",
      "With 59 times sqrt and then 59 times **2, the number 2.0 becomes: 1.0000000000000000\n"
     ]
    }
   ],
   "source": [
    "from math import sqrt\n",
    "for n in range(1, 60):\n",
    "    r_org = 2.0\n",
    "    r = r_org\n",
    "    for i in range(n):\n",
    "        r = sqrt(r)\n",
    "    for i in range(n):\n",
    "        r = r ** 2\n",
    "    print ('With {} times sqrt and then {} times **2, the number {} becomes: {:.16f}'.format(n,n,r_org,r))"
   ]
  },
  {
   "cell_type": "markdown",
   "metadata": {},
   "source": [
    "<B><h2>The Third Question</h2></B>"
   ]
  },
  {
   "cell_type": "code",
   "execution_count": 4,
   "metadata": {},
   "outputs": [],
   "source": [
    "# Iterative Variant\n",
    "def fibIter(num):\n",
    "    if num == 0:\n",
    "        print('Whaaaat!?! Are you OK?\\n Or Zero (0)')\n",
    "        return None\n",
    "    if num == 1 or num == 2:\n",
    "        return 1\n",
    "    num_1 = 1\n",
    "    num_2 = 1\n",
    "    res = 0\n",
    "    for _ in range(num - 2):\n",
    "        res = num_1 + num_2\n",
    "        num_1 = num_2\n",
    "        num_2 = res\n",
    "    return res\n",
    "\n",
    "# Recursive Variant\n",
    "def fibRecur(num):\n",
    "    if num <= 1:\n",
    "        return num\n",
    "    else:\n",
    "        return fibRecur(num - 1) + fibRecur(num - 2)\n"
   ]
  },
  {
   "cell_type": "code",
   "execution_count": 6,
   "metadata": {},
   "outputs": [
    {
     "name": "stdout",
     "output_type": "stream",
     "text": [
      "Inalid Input!\n",
      "Inalid Input!\n",
      "Inalid Input!\n",
      "fib(10) = 55\n",
      "fib(13) = 233\n",
      "Negative Number Entered!\n",
      "Negative Number Entered!\n",
      "Inalid Input!\n",
      "Okay! Okay!\n"
     ]
    }
   ],
   "source": [
    "# The general Function\n",
    "def Fibonacci():\n",
    "    counter = 0\n",
    "    while True:\n",
    "        if not counter:\n",
    "            entry = input('Please enter a non-negative integer: ')\n",
    "        else:\n",
    "            entry = input('Please enter a non-negative integer or type Stop: ')\n",
    "            if str.lower(entry) == 'stop':\n",
    "                print('Okay! Okay!')\n",
    "                return\n",
    "        try:\n",
    "            intEntry = int(entry)\n",
    "            assert intEntry >= 0, 'Negative Number Entered!'\n",
    "        except ValueError:\n",
    "            print('Inalid Input!')\n",
    "        except AssertionError as message:\n",
    "            print(message)\n",
    "        else:\n",
    "            print(f'fib({intEntry}) = {fibIter(intEntry)}')\n",
    "            counter += 1\n",
    "\n",
    "Fibonacci()"
   ]
  },
  {
   "cell_type": "code",
   "execution_count": null,
   "metadata": {},
   "outputs": [],
   "source": []
  }
 ],
 "metadata": {
  "interpreter": {
   "hash": "8f4957bf20e375079071e62f4ae20f4325f5099be262df81a204300d138c55a9"
  },
  "kernelspec": {
   "display_name": "Python 3.9.2 64-bit",
   "name": "python3"
  },
  "language_info": {
   "codemirror_mode": {
    "name": "ipython",
    "version": 3
   },
   "file_extension": ".py",
   "mimetype": "text/x-python",
   "name": "python",
   "nbconvert_exporter": "python",
   "pygments_lexer": "ipython3",
   "version": "3.9.2"
  },
  "orig_nbformat": 4
 },
 "nbformat": 4,
 "nbformat_minor": 2
}
