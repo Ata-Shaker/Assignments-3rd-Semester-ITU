{
 "cells": [
  {
   "cell_type": "markdown",
   "metadata": {},
   "source": [
    "<h1>The First Homework of Artificial Neural Network</h1>\n",
    "<h2>Name: Ata Shaker</h2>\n",
    "<h2>Studnet ID: 040200925</h2>"
   ]
  },
  {
   "cell_type": "markdown",
   "metadata": {},
   "source": [
    "<h1>The First Question</h1>"
   ]
  },
  {
   "cell_type": "code",
   "execution_count": 6,
   "metadata": {},
   "outputs": [
    {
     "name": "stdout",
     "output_type": "stream",
     "text": [
      "Ata will be 100 years old in 2100.\n"
     ]
    }
   ],
   "source": [
    "from datetime import datetime\n",
    "while True:\n",
    "    try:\n",
    "        name = input('Enter name: ')\n",
    "        assert len(name) < 20, 'Length Error!'\n",
    "        assert name != '', 'No Name Error!'\n",
    "    except AssertionError as msg:\n",
    "        print(msg)\n",
    "    else:\n",
    "        break\n",
    "\n",
    "while True:\n",
    "    try:\n",
    "        age = input('Enter Age: ')\n",
    "        assert 0 < int(age) < 100, 'Age Range Error!'\n",
    "    except ValueError:\n",
    "        print('Conversion Error!')\n",
    "    except AssertionError as msg:\n",
    "        print(msg)\n",
    "    else:\n",
    "        break\n",
    "\n",
    "print(f'{name} will be 100 years old in {datetime.now().year + 100 - int(age)}.')\n"
   ]
  },
  {
   "cell_type": "markdown",
   "metadata": {},
   "source": [
    "<h1>The Second Question</h1>"
   ]
  },
  {
   "cell_type": "code",
   "execution_count": 1,
   "metadata": {},
   "outputs": [
    {
     "name": "stdout",
     "output_type": "stream",
     "text": [
      "Twinkle, twinkle, little star,\n",
      "\tHow I wonder what you are! \n",
      "\t\tUp above the world so high, \n",
      "\t\tLike a diamond in the sky. \n",
      "Twinkle, twinkle, little star, \n",
      "\tHow I wonder what you are\n"
     ]
    }
   ],
   "source": [
    "print('''Twinkle, twinkle, little star,\n",
    "\\tHow I wonder what you are! \n",
    "\\t\\tUp above the world so high, \n",
    "\\t\\tLike a diamond in the sky. \n",
    "Twinkle, twinkle, little star, \n",
    "\\tHow I wonder what you are''')"
   ]
  },
  {
   "cell_type": "code",
   "execution_count": 10,
   "metadata": {},
   "outputs": [
    {
     "name": "stdout",
     "output_type": "stream",
     "text": [
      "Current date and time:\n",
      "2021-10-21 17:28:48\n"
     ]
    }
   ],
   "source": [
    "print(f'Current date and time:\\n{datetime.strftime(datetime.now(), r\"%Y-%m-%d %H:%M:%S\")}')"
   ]
  },
  {
   "cell_type": "markdown",
   "metadata": {},
   "source": [
    "<h1>The Third Question</h1>"
   ]
  },
  {
   "cell_type": "code",
   "execution_count": 9,
   "metadata": {},
   "outputs": [
    {
     "name": "stdout",
     "output_type": "stream",
     "text": [
      "The equation x**2 - 5.86x + 8.5408 has the roots: x1 = 3.14, x2 = 2.72\n"
     ]
    }
   ],
   "source": [
    "coefficients = [1, -5.86, 8.5408]\n",
    "discriminant = coefficients[1] ** 2 - 4 * coefficients[0] * coefficients[2]\n",
    "if discriminant < 0:\n",
    "    print('The equation has no real roots.')\n",
    "else:\n",
    "    root_1 = (-1 * coefficients[1] + discriminant ** (1/2))/(2 * coefficients[0])\n",
    "    root_2 = (-1 * coefficients[1] - discriminant ** (1/2))/(2 * coefficients[0])\n",
    "    print(f'The equation x**2 - 5.86x + 8.5408 has the roots: x1 = {round(root_1, 4)}, x2 = {round(root_2, 4)}')"
   ]
  },
  {
   "cell_type": "markdown",
   "metadata": {},
   "source": [
    "<h1>The Fourth Question</h1>"
   ]
  },
  {
   "cell_type": "code",
   "execution_count": 11,
   "metadata": {},
   "outputs": [],
   "source": [
    "num_1 = 7\n",
    "num_2 = 19"
   ]
  },
  {
   "cell_type": "code",
   "execution_count": 24,
   "metadata": {},
   "outputs": [
    {
     "name": "stdout",
     "output_type": "stream",
     "text": [
      "NOT 19(0b10011) = -20(-0b10100)\n"
     ]
    }
   ],
   "source": [
    "# Bitwise Negation\n",
    "# NOT True  = False\n",
    "# NOT False = True\n",
    "print(f'NOT {num_2}({bin(num_2)}) = {~ num_2}({bin(~ num_2)})')"
   ]
  },
  {
   "cell_type": "code",
   "execution_count": 25,
   "metadata": {},
   "outputs": [
    {
     "name": "stdout",
     "output_type": "stream",
     "text": [
      "7(0b111) And 19(0b10011) = 3(0b11)\n"
     ]
    }
   ],
   "source": [
    "# Bitwise AND\n",
    "# True  AND True  = True\n",
    "# False AND True  = False\n",
    "# True  AND False = False\n",
    "# False AND False = False\n",
    "print(f'{num_1}({bin(num_1)}) And {num_2}({bin(num_2)}) = {num_1 & num_2}({bin(num_1 & num_2)})')"
   ]
  },
  {
   "cell_type": "code",
   "execution_count": 19,
   "metadata": {},
   "outputs": [
    {
     "name": "stdout",
     "output_type": "stream",
     "text": [
      "7(0b111) OR 19(0b10011) = 23(0b10111)\n"
     ]
    }
   ],
   "source": [
    "# Bitwise OR\n",
    "# True  OR True  = True\n",
    "# False OR True  = True\n",
    "# True  OR False = True\n",
    "# False OR False = False\n",
    "print(f'{num_1}({bin(num_1)}) OR {num_2}({bin(num_2)}) = {(num_1 | num_2)}({bin(num_1 | num_2)})')"
   ]
  },
  {
   "cell_type": "code",
   "execution_count": 20,
   "metadata": {},
   "outputs": [
    {
     "name": "stdout",
     "output_type": "stream",
     "text": [
      "7(0b111) XOR 19(0b10011) = 20(0b10100)\n"
     ]
    }
   ],
   "source": [
    "# Bitwise XOR\n",
    "# True  XOR True  = False\n",
    "# False XOR True  = True\n",
    "# True  XOR False = True\n",
    "# False XOR False = False\n",
    "print(f'{num_1}({bin(num_1)}) XOR {num_2}({bin(num_2)}) = {(num_1 ^ num_2)}({bin(num_1 ^ num_2)})')"
   ]
  },
  {
   "cell_type": "code",
   "execution_count": 26,
   "metadata": {},
   "outputs": [
    {
     "name": "stdout",
     "output_type": "stream",
     "text": [
      "19(0b10011) << 2 = 76(0b1001100)\n"
     ]
    }
   ],
   "source": [
    "# Left Bit Shift\n",
    "# 0b0111 << 1 = 0b1110\n",
    "# Shifts the bits of the first operand to the left by the right operand\n",
    "print(f'{num_2}({bin(num_2)}) << 2 = {(num_2 << 2)}({bin(num_2 << 2)})')"
   ]
  },
  {
   "cell_type": "code",
   "execution_count": 27,
   "metadata": {},
   "outputs": [
    {
     "name": "stdout",
     "output_type": "stream",
     "text": [
      "19(0b10011) >> 2 = 4(0b100)\n"
     ]
    }
   ],
   "source": [
    "# Right Bit Shift\n",
    "# 0b0111 >> 1 = 0b11\n",
    "# Shifts the bits of the first operand to the right by the right operand\n",
    "print(f'{num_2}({bin(num_2)}) >> 2 = {(num_2 >> 2)}({bin(num_2 >> 2)})')"
   ]
  },
  {
   "cell_type": "code",
   "execution_count": 34,
   "metadata": {},
   "outputs": [
    {
     "name": "stdout",
     "output_type": "stream",
     "text": [
      "7 in [7, 19] = True\n",
      "7 not in [7, 19] = False\n",
      "type(7) is int = True\n",
      "type(7) is int = False\n"
     ]
    }
   ],
   "source": [
    "# Membership Operators\n",
    "print(f'{num_1} in {[num_1, num_2]} = {num_1 in [num_1, num_2]}')\n",
    "print(f'{num_1} not in {[num_1, num_2]} = {num_1 not in [num_1, num_2]}')\n",
    "print(f'type({num_1}) is int = {type(num_1) is int}')\n",
    "print(f'type({num_1}) is int = {type(num_1) is float}')"
   ]
  },
  {
   "cell_type": "markdown",
   "metadata": {},
   "source": [
    "<h1>The Fifth Question</h1>"
   ]
  },
  {
   "cell_type": "markdown",
   "metadata": {},
   "source": [
    "\n",
    "<i><h2>5-A</h2></i>\n",
    "In the first article, I learned the what supervised learning is about and its difference with unsupervised learning. In supervised learning the programmer treats the computer as a toddler meaning that he/she will give the computer a set of optimal data. Then, the programmer using various mathematical techniques such as linear regression or neural networks tries to train computer to guess/approximate new inputs improving its accuracy overtime. On the contrary, in unsupervised learning, the programmer provides the computer with data and doesn't make any commnts on the valididty of it. Instead it is excpected from the computer to do heavy-lifting."
   ]
  },
  {
   "cell_type": "markdown",
   "metadata": {},
   "source": [
    "<i><h2>5-B</h2></i>\n",
    "In the second article, I understood that brain works similar to machines when observed from modularity perspective. While scientists believed that the human brain applies this vision, it was later found that this method is applied across all other sections. This theory heavily relies in the Grandmother Neuron Theory which has took off and become popular since the 60s. \n"
   ]
  }
 ],
 "metadata": {
  "interpreter": {
   "hash": "afbed2e2716a681b80890f814ebe7b3009d4b8fcfc0c35f0f33f06bbd8362698"
  },
  "kernelspec": {
   "display_name": "Python 3.9.6 64-bit",
   "name": "python3"
  },
  "language_info": {
   "codemirror_mode": {
    "name": "ipython",
    "version": 3
   },
   "file_extension": ".py",
   "mimetype": "text/x-python",
   "name": "python",
   "nbconvert_exporter": "python",
   "pygments_lexer": "ipython3",
   "version": "3.9.6"
  },
  "orig_nbformat": 4
 },
 "nbformat": 4,
 "nbformat_minor": 2
}
