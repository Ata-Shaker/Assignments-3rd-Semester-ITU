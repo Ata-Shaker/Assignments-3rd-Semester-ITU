{
 "cells": [
  {
   "cell_type": "markdown",
   "metadata": {},
   "source": [
    "<h1>First Question</h1>"
   ]
  },
  {
   "cell_type": "code",
   "execution_count": 4,
   "metadata": {},
   "outputs": [
    {
     "name": "stdout",
     "output_type": "stream",
     "text": [
      "In one hundred years, in 2121, Ata Shaker will be 121 years old.\n"
     ]
    }
   ],
   "source": [
    "from datetime import datetime\n",
    "while True:\n",
    "    try:\n",
    "        name = input('Enter name: ')\n",
    "        assert len(name) < 20, 'Length Error!'\n",
    "        assert name != '', 'No Name Error!'\n",
    "    except AssertionError as msg:\n",
    "        print(msg)\n",
    "    else:\n",
    "        break\n",
    "\n",
    "while True:\n",
    "    try:\n",
    "        age = input('Enter Age: ')\n",
    "        assert 0 < int(age) < 100, 'Age Range Error!'\n",
    "    except ValueError:\n",
    "        print('Conversion Error!')\n",
    "    except AssertionError as msg:\n",
    "        print(msg)\n",
    "    else:\n",
    "        break\n",
    "\n",
    "print(f'In one hundred years, in {datetime.now().year + 100}, {name} will be {int(age) + 100} years old.')\n"
   ]
  },
  {
   "cell_type": "markdown",
   "metadata": {},
   "source": [
    "<h1>Second Question</h1>"
   ]
  },
  {
   "cell_type": "code",
   "execution_count": 7,
   "metadata": {},
   "outputs": [
    {
     "name": "stdout",
     "output_type": "stream",
     "text": [
      "Twinkle, twinkle, little star,\n",
      "\tHow I wonder what you are! \n",
      "\t\tUp above the world so high, \n",
      "\t\tLike a diamond in the sky. \n",
      "Twinkle, twinkle, little star, \n",
      "\tHow I wonder what you are\n"
     ]
    }
   ],
   "source": [
    "print('''Twinkle, twinkle, little star,\n",
    "\\tHow I wonder what you are! \n",
    "\\t\\tUp above the world so high, \n",
    "\\t\\tLike a diamond in the sky. \n",
    "Twinkle, twinkle, little star, \n",
    "\\tHow I wonder what you are''')"
   ]
  },
  {
   "cell_type": "code",
   "execution_count": 8,
   "metadata": {},
   "outputs": [
    {
     "name": "stdout",
     "output_type": "stream",
     "text": [
      "Current date and time:\n",
      "2021-10-21 01:30:47\n"
     ]
    }
   ],
   "source": [
    "print(f'Current date and time:\\n{datetime.strftime(datetime.now(), r\"%Y-%m-%d %H:%M:%S\")}')"
   ]
  },
  {
   "cell_type": "markdown",
   "metadata": {},
   "source": [
    "<h1>Third Question</h1>"
   ]
  },
  {
   "cell_type": "code",
   "execution_count": null,
   "metadata": {},
   "outputs": [],
   "source": []
  }
 ],
 "metadata": {
  "interpreter": {
   "hash": "8f4957bf20e375079071e62f4ae20f4325f5099be262df81a204300d138c55a9"
  },
  "kernelspec": {
   "display_name": "Python 3.9.2 64-bit",
   "name": "python3"
  },
  "language_info": {
   "codemirror_mode": {
    "name": "ipython",
    "version": 3
   },
   "file_extension": ".py",
   "mimetype": "text/x-python",
   "name": "python",
   "nbconvert_exporter": "python",
   "pygments_lexer": "ipython3",
   "version": "3.9.2"
  },
  "orig_nbformat": 4
 },
 "nbformat": 4,
 "nbformat_minor": 2
}
