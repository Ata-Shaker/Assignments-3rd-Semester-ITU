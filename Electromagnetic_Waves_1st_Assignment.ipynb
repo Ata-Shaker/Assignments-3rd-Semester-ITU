{
 "cells": [
  {
   "cell_type": "markdown",
   "metadata": {},
   "source": [
    "<h1>First Homework of EHBE 313</h1>\n",
    "<h2>Name: Ata Shaker</h2>\n",
    "<h2>Std No.: 040200925</h2>\n"
   ]
  },
  {
   "cell_type": "code",
   "execution_count": 5,
   "metadata": {},
   "outputs": [],
   "source": [
    "import numpy as np\n",
    "import matplotlib.pyplot as plt"
   ]
  },
  {
   "cell_type": "code",
   "execution_count": 7,
   "metadata": {},
   "outputs": [],
   "source": [
    "def u(x, t):\n",
    "    c = 3e8\n",
    "    return np.exp(-((x-c*t)**2)/2) + np.exp(-((x+c*t)**2)/2)"
   ]
  },
  {
   "cell_type": "code",
   "execution_count": 28,
   "metadata": {},
   "outputs": [],
   "source": [
    "x = np.linspace(0, 1000, num = 1001)\n",
    "u_0 = u(x, 0)\n",
    "u_1 = u(x, 1)  \n",
    "u_2 = u(x, 2)"
   ]
  },
  {
   "cell_type": "code",
   "execution_count": 29,
   "metadata": {},
   "outputs": [
    {
     "data": {
      "image/png": "[encoded data removed]",
      "text/plain": [
       "<Figure size 432x288 with 3 Axes>"
      ]
     },
     "metadata": {
      "needs_background": "light"
     },
     "output_type": "display_data"
    }
   ],
   "source": [
    "plt.subplot(3,1,1)\n",
    "plt.plot(x, u_0)\n",
    "plt.xlabel('x')\n",
    "plt.ylabel('u(x,0)')\n",
    "plt.subplot(3,1,2)\n",
    "plt.plot(x, u_1)\n",
    "plt.xlabel('x')\n",
    "plt.ylabel('u(x,1)')\n",
    "plt.subplot(3,1,3)\n",
    "plt.plot(x, u_2)\n",
    "plt.xlabel('x')\n",
    "plt.ylabel('u(x,2)')\n",
    "plt.show()"
   ]
  },
  {
   "cell_type": "code",
   "execution_count": null,
   "metadata": {},
   "outputs": [],
   "source": []
  }
 ],
 "metadata": {
  "interpreter": {
   "hash": "8f4957bf20e375079071e62f4ae20f4325f5099be262df81a204300d138c55a9"
  },
  "kernelspec": {
   "display_name": "Python 3.9.2 64-bit",
   "name": "python3"
  },
  "language_info": {
   "codemirror_mode": {
    "name": "ipython",
    "version": 3
   },
   "file_extension": ".py",
   "mimetype": "text/x-python",
   "name": "python",
   "nbconvert_exporter": "python",
   "pygments_lexer": "ipython3",
   "version": "3.9.2"
  },
  "orig_nbformat": 4
 },
 "nbformat": 4,
 "nbformat_minor": 2
}
